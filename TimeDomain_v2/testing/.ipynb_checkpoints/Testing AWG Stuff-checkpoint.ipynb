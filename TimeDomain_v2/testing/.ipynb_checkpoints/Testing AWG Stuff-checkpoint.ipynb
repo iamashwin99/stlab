{
 "cells": [
  {
   "cell_type": "code",
   "execution_count": null,
   "metadata": {},
   "outputs": [],
   "source": [
    "from Initialization import *"
   ]
  },
  {
   "cell_type": "code",
   "execution_count": 2,
   "metadata": {},
   "outputs": [
    {
     "name": "stderr",
     "output_type": "stream",
     "text": [
      "Pulsar.update_channel_settings() is deprecated with the multi-AWG support. Please update your code.\n"
     ]
    }
   ],
   "source": [
    "station.pulsar.update_channel_settings()"
   ]
  },
  {
   "cell_type": "code",
   "execution_count": 3,
   "metadata": {},
   "outputs": [
    {
     "data": {
      "text/plain": [
       "{'RFLO': <N51x1: RFLO>,\n",
       " 'SPEC': <RohdeSchwarz_SGS100A: SPEC>,\n",
       " 'AWG': <Tektronix_AWG520: AWG>,\n",
       " 'ATS': <AlazarTech_ATS9870: ATS>,\n",
       " 'ATS_controller': <Demodulation_AcquisitionController: ATS_controller>,\n",
       " 'HS': <HeterodyneInstrument: HS>,\n",
       " 'MC': <MeasurementControl: MC>}"
      ]
     },
     "execution_count": 3,
     "metadata": {},
     "output_type": "execute_result"
    }
   ],
   "source": [
    "station.components"
   ]
  },
  {
   "cell_type": "code",
   "execution_count": null,
   "metadata": {},
   "outputs": [],
   "source": [
    "station.AWG"
   ]
  },
  {
   "cell_type": "code",
   "execution_count": 1,
   "metadata": {},
   "outputs": [
    {
     "ename": "NameError",
     "evalue": "name 'AWG' is not defined",
     "output_type": "error",
     "traceback": [
      "\u001b[1;31m---------------------------------------------------------------------------\u001b[0m",
      "\u001b[1;31mNameError\u001b[0m                                 Traceback (most recent call last)",
      "\u001b[1;32m<ipython-input-1-5cce6aa0e69b>\u001b[0m in \u001b[0;36m<module>\u001b[1;34m()\u001b[0m\n\u001b[1;32m----> 1\u001b[1;33m \u001b[0mAWG\u001b[0m\u001b[1;33m.\u001b[0m\u001b[0mch1_amp\u001b[0m\u001b[1;33m.\u001b[0m\u001b[0mget\u001b[0m\u001b[1;33m(\u001b[0m\u001b[1;33m)\u001b[0m\u001b[1;33m\u001b[0m\u001b[0m\n\u001b[0m",
      "\u001b[1;31mNameError\u001b[0m: name 'AWG' is not defined"
     ]
    }
   ],
   "source": [
    "AWG.ch1_amp.get()"
   ]
  },
  {
   "cell_type": "code",
   "execution_count": null,
   "metadata": {},
   "outputs": [],
   "source": [
    "import pyvisa\n",
    "rm = pyvisa.ResourceManager()\n",
    "rm.list_resources()"
   ]
  },
  {
   "cell_type": "code",
   "execution_count": 5,
   "metadata": {},
   "outputs": [],
   "source": [
    "bla = rm.open_resource('TCPIP0::192.168.1.27::1234::SOCKET', read_termination='\\r\\n')"
   ]
  },
  {
   "cell_type": "code",
   "execution_count": 6,
   "metadata": {},
   "outputs": [
    {
     "name": "stderr",
     "output_type": "stream",
     "text": [
      "C:\\ProgramData\\Anaconda3\\lib\\site-packages\\pyvisa\\resources\\messagebased.py:564: UserWarning:\n",
      "\n",
      "read string doesn't end with termination characters\n",
      "\n"
     ]
    },
    {
     "data": {
      "text/plain": [
       "'SONY/TEK,AWG520,0,SCPI:95.0 OS:1.0 USR:1.3'"
      ]
     },
     "execution_count": 6,
     "metadata": {},
     "output_type": "execute_result"
    }
   ],
   "source": [
    "bla.query(\"*IDN?\")"
   ]
  },
  {
   "cell_type": "code",
   "execution_count": 7,
   "metadata": {},
   "outputs": [],
   "source": [
    "import visa\n",
    "global_rs = visa.ResourceManager('@py')\n",
    "# global_rs.list_resources()"
   ]
  },
  {
   "cell_type": "code",
   "execution_count": 8,
   "metadata": {},
   "outputs": [],
   "source": [
    "awg=global_rs.open_resource('TCPIP0::192.168.1.27::1234::SOCKET', read_termination='\\r\\n')"
   ]
  },
  {
   "cell_type": "code",
   "execution_count": null,
   "metadata": {},
   "outputs": [],
   "source": [
    "awg.query(\"*IDN?\")"
   ]
  },
  {
   "cell_type": "code",
   "execution_count": null,
   "metadata": {},
   "outputs": [],
   "source": []
  },
  {
   "cell_type": "code",
   "execution_count": null,
   "metadata": {},
   "outputs": [],
   "source": []
  },
  {
   "cell_type": "code",
   "execution_count": null,
   "metadata": {},
   "outputs": [],
   "source": [
    "devAWG.id()\n",
    "devAWG.set_run_mode('ENH')"
   ]
  },
  {
   "cell_type": "code",
   "execution_count": null,
   "metadata": {},
   "outputs": [],
   "source": [
    "devSGS = RS_SGS100A('TCPIP::192.168.1.37::INSTR')"
   ]
  },
  {
   "cell_type": "code",
   "execution_count": null,
   "metadata": {},
   "outputs": [],
   "source": [
    "devFSV = RS_FSV('TCPIP::192.168.1.37::INSTR')"
   ]
  },
  {
   "cell_type": "code",
   "execution_count": null,
   "metadata": {},
   "outputs": [],
   "source": [
    "devSGS.setCWfrequency(6.0e9)\n",
    "devSGS.setCWpower(-10)\n",
    "devSGS.RFon()\n",
    "devSGS.IQon()"
   ]
  },
  {
   "cell_type": "code",
   "execution_count": null,
   "metadata": {},
   "outputs": [],
   "source": [
    "devSGS.setCWpower(-10)\n"
   ]
  },
  {
   "cell_type": "code",
   "execution_count": null,
   "metadata": {},
   "outputs": [],
   "source": [
    "devOsc = Rigol_DS1054('TCPIP::192.168.1.25::INSTR')\n",
    "devOsc.id()"
   ]
  },
  {
   "cell_type": "code",
   "execution_count": null,
   "metadata": {
    "scrolled": false
   },
   "outputs": [],
   "source": [
    "AWG.define_channels(id='ch1', name='RF1', type='analog',\n",
    "                              high=0.541, low=-0.541,\n",
    "                              offset=0., delay=0, active=True)\n",
    "\n",
    "AWG.define_channels(id='ch2', name='RF2', type='analog',\n",
    "                              high=0.541, low=-0.541,\n",
    "                              offset=0., delay=0, active=True)\n",
    "\n",
    "AWG.define_channels(id='ch1_marker1', name='MW_pulsemod', type='marker',\n",
    "                              high=1.0, low=0, offset=0.,\n",
    "                              delay=0, active=True)\n",
    "\n",
    "AWG.define_channels(id='ch2_marker1', name='trigger', type='marker',\n",
    "                              high=1, low=0,\n",
    "                              offset=0., delay=0, active=True)\n",
    "#-------------------------------------------------------\n",
    "\n",
    "\n",
    "#-------------------------------------------------------\n",
    "# define some bogus pulses.\n",
    "# We use an element to configure and store the pulse\n",
    "# For now we have defined some standard pulses but will\n",
    "# increase our library in the future\n",
    "sin_pulse = pulse.CosPulse(channel='RF1', name='A sine pulse on RF')\n",
    "sin_pulse_2 = pulse.CosPulse(channel='RF2', name='A sine pulse on RF')\n",
    "\n",
    "SSB_pulse = pulse.MW_IQmod_pulse(I_channel ='RF2', Q_channel='RF1', name='SSB pulse')\n",
    "\n",
    "\n",
    "# train = pulse.clock_train(channel='trigger', name='A sine pulse on RF')\n",
    "\n",
    "\n",
    "\n",
    "sq_pulse = pulse.SquarePulse(channel='trigger',\n",
    "                             name='A square pulse on MW pmod')\n",
    "\n",
    "sq_pulse_ch1 = pulse.SquarePulse(channel='RF1',\n",
    "                             name='A square pulse on MW pmod')\n",
    "\n",
    "sq_pulse_ch2 = pulse.SquarePulse(channel='RF2',\n",
    "                             name='A square pulse on MW pmod')\n",
    "\n",
    "\n",
    "\n",
    "\n",
    "test_element1 = element.Element('blub_element1', pulsar = AWG)#, ignore_offset_correction=True)\n",
    "test_element2 = element.Element('blub_element2', pulsar = AWG)#, ignore_offset_correction=True)\n",
    "\n",
    "# we copied the channel definition from out global pulsar\n",
    "\n",
    "# create a few of those\n",
    "\n",
    "# create a few of those\n",
    "test_element1.add(pulse.cp(sq_pulse, amplitude=0., length=10.0e-6), start = 0.2e-6,\n",
    "                 name='first pulse', refpoint='start')\n",
    "\n",
    "test_element1.add(pulse.cp(sq_pulse, amplitude=1., length=0.5e-6), start = 0.2e-6,\n",
    "                 name='second pulse', refpulse = 'first pulse', refpoint='start')\n",
    "\n",
    "test_element1.add(pulse.cp(SSB_pulse, mod_frequency=-50e6, amplitude=0.5, length=5.0e-6), start = 1.0e-6,\n",
    "                 name='third pulse', refpulse = 'second pulse', refpoint='start')\n",
    "\n",
    "\n",
    "test_element2.add(pulse.cp(sq_pulse, amplitude=0., length=10.0e-6), start = 0.2e-6,\n",
    "                 name='first pulse', refpoint='start')\n",
    "\n",
    "test_element2.add(pulse.cp(sq_pulse, amplitude=1., length=0.5e-6), start = 0.2e-6,\n",
    "                 name='second pulse', refpulse = 'first pulse', refpoint='start')\n",
    "\n",
    "test_element2.add(pulse.cp(SSB_pulse, mod_frequency=-50e6, amplitude=0.5, length=5.0e-6), start = 1.0e-6,\n",
    "                 name='third pulse', refpulse = 'second pulse', refpoint='start')\n",
    "\n",
    "\n",
    "\n",
    "print('Channel definitions: ')\n",
    "\n",
    "test_element1.print_overview()\n",
    "\n",
    "test_element2.print_overview()\n",
    "\n",
    "\n",
    "# -------------------------continue-------------------------------\n",
    "\n",
    "# -------------------------------------------------------\n",
    "# viewing of the sequence for second check of timing etc\n",
    "viewer.show_element_stlab(test_element1, delay = False, channels = 'all', ax = None)\n",
    "viewer.show_element_stlab(test_element2, delay = False, channels = 'all', ax = None)\n",
    "\n",
    "# --------------------------------------------------------"
   ]
  },
  {
   "cell_type": "code",
   "execution_count": null,
   "metadata": {},
   "outputs": [],
   "source": [
    "devAWG.get_all()"
   ]
  },
  {
   "cell_type": "code",
   "execution_count": null,
   "metadata": {},
   "outputs": [],
   "source": [
    "devAWG.init_dir()"
   ]
  },
  {
   "cell_type": "code",
   "execution_count": null,
   "metadata": {},
   "outputs": [],
   "source": [
    "#-------------------------------------------------------\n",
    "# now to send everything to the AWG, we have perform the last step by putting everything \n",
    "# into a sequence\n",
    "\n",
    "seq = sequence.Sequence('blub')\n",
    "seq.append(name='first_element', wfname='blub_element1', trigger_wait=True,\n",
    "           goto_target='second element')\n",
    "\n",
    "seq.append(name='second_element', wfname='blub_element2', trigger_wait=True,\n",
    "           goto_target='first_element')\n",
    "\n",
    "\n",
    "AWG.program_awg(seq,test_element1, test_element2, verbose = True)#, test_element2)\n",
    "\n",
    "AWG.AWGrun()\n"
   ]
  },
  {
   "cell_type": "code",
   "execution_count": null,
   "metadata": {},
   "outputs": [],
   "source": []
  },
  {
   "cell_type": "code",
   "execution_count": null,
   "metadata": {},
   "outputs": [],
   "source": [
    "seq = sequence.Sequence('phase_sweep')\n",
    "\n",
    "phases = np.linspace(0, 360, 37)\n",
    "\n",
    "print(phases)\n",
    "\n",
    "elements = []\n",
    "\n",
    "for i, phase in enumerate(phases):\n",
    "        \n",
    "    elem = element.Element('phase_%d' %phase, pulsar = AWG)#, ignore_offset_correction=True)\n",
    "\n",
    "\n",
    "    # create a few of those\n",
    "    elem.add(pulse.cp(sq_pulse, amplitude=1., length=0.5e-6), start = 0.2e-6,\n",
    "                     name='first pulse', refpoint='start')\n",
    "\n",
    "    elem.add(pulse.cp(SSB_pulse, mod_frequency=-50e6, amplitude=0.5, length=20.0e-6, phase=phase), start = 5.0e-6,\n",
    "                     name='second pulse', refpulse = 'first pulse', refpoint='end')\n",
    "    \n",
    "    elements.append(elem)\n",
    "    \n",
    "    if phase == 360:\n",
    "        seq.append(name='phase_%d' %phase, wfname='phase_%d' %phase, trigger_wait=True,\n",
    "               goto_target='phase_%d' %0.)\n",
    "    else:\n",
    "        seq.append(name='phase_%d' %phase, wfname='phase_%d' %phase, trigger_wait=True,\n",
    "               goto_target='phase_%d' %phases[i+1])\n",
    "\n",
    "print('Channel definitions: ')\n",
    "\n",
    "test_element1.print_overview()\n",
    "\n",
    "test_element2.print_overview()\n",
    "\n",
    "\n"
   ]
  },
  {
   "cell_type": "code",
   "execution_count": null,
   "metadata": {},
   "outputs": [],
   "source": [
    "viewer.show_element_stlab(elements[20], delay = False, channels = 'all', ax = None)\n",
    "viewer.show_element_stlab(elements[0], delay = False, channels = 'all', ax = None)\n"
   ]
  },
  {
   "cell_type": "code",
   "execution_count": null,
   "metadata": {},
   "outputs": [],
   "source": []
  },
  {
   "cell_type": "code",
   "execution_count": null,
   "metadata": {},
   "outputs": [],
   "source": [
    "\n",
    "devAWG.start()"
   ]
  },
  {
   "cell_type": "code",
   "execution_count": null,
   "metadata": {},
   "outputs": [],
   "source": [
    "RS_FSV.prepare_TD()"
   ]
  },
  {
   "cell_type": "code",
   "execution_count": null,
   "metadata": {},
   "outputs": [],
   "source": [
    "AWG.define_channels(id='ch1', name='RF1', type='analog',\n",
    "                              high=0.541, low=-0.541,\n",
    "                              offset=0., delay=0, active=True)\n",
    "\n",
    "AWG.define_channels(id='ch2', name='RF2', type='analog',\n",
    "                              high=0.541, low=-0.541,\n",
    "                              offset=0., delay=0, active=True)\n",
    "\n",
    "AWG.define_channels(id='ch1_marker1', name='MW_pulsemod', type='marker',\n",
    "                              high=1.0, low=0, offset=0.,\n",
    "                              delay=0, active=True)\n",
    "\n",
    "AWG.define_channels(id='ch2_marker1', name='trigger', type='marker',\n",
    "                              high=1, low=0,\n",
    "                              offset=0., delay=0, active=True)\n",
    "\n",
    "SSB_pulse = pulse.MW_IQmod_pulse(I_channel ='RF2', Q_channel='RF1', name='SSB pulse')\n",
    "\n",
    "sq_pulse = pulse.SquarePulse(channel='trigger',\n",
    "                             name='A square pulse on MW pmod')\n",
    "\n",
    "phases = np.linspace(0, 360, 37)\n",
    "\n",
    "for i, phase in enumerate(phases):\n",
    "    \n",
    "    devAWG.init_dir()\n",
    "\n",
    "    seq = sequence.Sequence('phase_%d' %phase)\n",
    "\n",
    "    phases = np.linspace(0, 360, 37)\n",
    "\n",
    "    print(phases)\n",
    "\n",
    "    elements = []\n",
    "\n",
    "\n",
    "    elem = element.Element('phase_%d' %phase, pulsar = AWG)#, ignore_offset_correction=True)\n",
    "\n",
    "\n",
    "    # create a few of those\n",
    "    elem.add(pulse.cp(sq_pulse, amplitude=1., length=0.5e-6), start = 0.2e-6,\n",
    "                     name='first pulse', refpoint='start')\n",
    "\n",
    "    elem.add(pulse.cp(SSB_pulse, mod_frequency=-50e6, amplitude=0.5, length=20.0e-6, phase=phase), start = 5.0e-6,\n",
    "                     name='second pulse', refpulse = 'first pulse', refpoint='end')\n",
    "\n",
    "    elements.append(elem)\n",
    "\n",
    "    if phase == 360:\n",
    "        seq.append(name='phase_%d' %phase, wfname='phase_%d' %phase, trigger_wait=True,\n",
    "               goto_target='phase_%d' %0.)\n",
    "    else:\n",
    "        seq.append(name='phase_%d' %phase, wfname='phase_%d' %phase, trigger_wait=True,\n",
    "               goto_target='phase_%d' %phases[i+1])\n",
    "\n",
    "    print('Channel definitions: ')\n",
    "\n",
    "    elem.print_overview()\n",
    "\n",
    "\n",
    "    AWG.program_awg(seq, *elements, verbose = True)#, test_element2)\n"
   ]
  },
  {
   "cell_type": "code",
   "execution_count": null,
   "metadata": {},
   "outputs": [],
   "source": [
    "\"%d\" %10"
   ]
  },
  {
   "cell_type": "code",
   "execution_count": null,
   "metadata": {},
   "outputs": [],
   "source": []
  },
  {
   "cell_type": "code",
   "execution_count": null,
   "metadata": {},
   "outputs": [],
   "source": []
  }
 ],
 "metadata": {
  "kernelspec": {
   "display_name": "Python 3",
   "language": "python",
   "name": "python3"
  },
  "language_info": {
   "codemirror_mode": {
    "name": "ipython",
    "version": 3
   },
   "file_extension": ".py",
   "mimetype": "text/x-python",
   "name": "python",
   "nbconvert_exporter": "python",
   "pygments_lexer": "ipython3",
   "version": "3.6.5"
  }
 },
 "nbformat": 4,
 "nbformat_minor": 2
}
